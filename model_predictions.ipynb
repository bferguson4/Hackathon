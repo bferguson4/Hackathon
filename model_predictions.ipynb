{
 "cells": [
  {
   "cell_type": "code",
   "execution_count": 1,
   "metadata": {},
   "outputs": [],
   "source": [
    "import pandas as pd"
   ]
  },
  {
   "cell_type": "code",
   "execution_count": 2,
   "metadata": {},
   "outputs": [
    {
     "name": "stderr",
     "output_type": "stream",
     "text": [
      "Skipped loading some Jax models, missing a dependency. No module named 'haiku'\n",
      "c:\\Desktop\\Hackathon\\atomsci-env\\lib\\site-packages\\tqdm\\auto.py:21: TqdmWarning: IProgress not found. Please update jupyter and ipywidgets. See https://ipywidgets.readthedocs.io/en/stable/user_install.html\n",
      "  from .autonotebook import tqdm as notebook_tqdm\n"
     ]
    },
    {
     "name": "stdout",
     "output_type": "stream",
     "text": [
      "Found data for 12 models under models/\n"
     ]
    }
   ],
   "source": [
    "from atomsci.ddm.pipeline import compare_models as cm\n",
    "perf_df = cm.get_filesystem_perf_results('models/', pred_type='regression')\n",
    "top_model=perf_df.sort_values(by=\"best_valid_r2_score\", ascending=False).iloc[0]"
   ]
  },
  {
   "cell_type": "code",
   "execution_count": 4,
   "metadata": {},
   "outputs": [],
   "source": [
    "from atomsci.ddm.pipeline import predict_from_model as pfm\n",
    "\n",
    "best_split_data_file = \"CDK_1_all_curated_\" + top_model[\"split_strategy\"] + \"_\" + top_model[\"splitter\"] + \"_\" + top_model[\"split_uuid\"] + \".csv\"\n",
    "best_split_data = pd.read_csv(\"Single_protein/\" + best_split_data_file)\n"
   ]
  },
  {
   "cell_type": "code",
   "execution_count": 7,
   "metadata": {},
   "outputs": [
    {
     "data": {
      "text/html": [
       "<div>\n",
       "<style scoped>\n",
       "    .dataframe tbody tr th:only-of-type {\n",
       "        vertical-align: middle;\n",
       "    }\n",
       "\n",
       "    .dataframe tbody tr th {\n",
       "        vertical-align: top;\n",
       "    }\n",
       "\n",
       "    .dataframe thead th {\n",
       "        text-align: right;\n",
       "    }\n",
       "</style>\n",
       "<table border=\"1\" class=\"dataframe\">\n",
       "  <thead>\n",
       "    <tr style=\"text-align: right;\">\n",
       "      <th></th>\n",
       "      <th>compound_id</th>\n",
       "      <th>base_rdkit_smiles</th>\n",
       "      <th>avg_pIC50</th>\n",
       "    </tr>\n",
       "  </thead>\n",
       "  <tbody>\n",
       "    <tr>\n",
       "      <th>0</th>\n",
       "      <td>CHEMBL2105759</td>\n",
       "      <td>CCS(=O)(=O)N1CC(CC#N)(n2cc(-c3ncnc4[nH]ccc34)c...</td>\n",
       "      <td>4.522879</td>\n",
       "    </tr>\n",
       "    <tr>\n",
       "      <th>11</th>\n",
       "      <td>CHEMBL511478</td>\n",
       "      <td>NNC(=O)c1c(N)ncnc1Nc1ccc(OCc2ccccc2)c(Cl)c1</td>\n",
       "      <td>4.000000</td>\n",
       "    </tr>\n",
       "    <tr>\n",
       "      <th>13</th>\n",
       "      <td>CHEMBL402548</td>\n",
       "      <td>CO[C@@H](C(=O)N1Cc2[nH]nc(NC(=O)c3ccc(N4CCN(C)...</td>\n",
       "      <td>4.522879</td>\n",
       "    </tr>\n",
       "    <tr>\n",
       "      <th>16</th>\n",
       "      <td>CHEMBL3648106</td>\n",
       "      <td>CC(CO)Sc1nc(Nc2ccc(S(C)(=N)=O)cc2)ncc1Br</td>\n",
       "      <td>7.744727</td>\n",
       "    </tr>\n",
       "    <tr>\n",
       "      <th>35</th>\n",
       "      <td>CHEMBL3654248</td>\n",
       "      <td>C[C@@H]1CN(c2ccc(Nc3ncc4cc(C(=O)N(C)C)n(C5CCCC...</td>\n",
       "      <td>4.823909</td>\n",
       "    </tr>\n",
       "  </tbody>\n",
       "</table>\n",
       "</div>"
      ],
      "text/plain": [
       "      compound_id                                  base_rdkit_smiles  \\\n",
       "0   CHEMBL2105759  CCS(=O)(=O)N1CC(CC#N)(n2cc(-c3ncnc4[nH]ccc34)c...   \n",
       "11   CHEMBL511478        NNC(=O)c1c(N)ncnc1Nc1ccc(OCc2ccccc2)c(Cl)c1   \n",
       "13   CHEMBL402548  CO[C@@H](C(=O)N1Cc2[nH]nc(NC(=O)c3ccc(N4CCN(C)...   \n",
       "16  CHEMBL3648106           CC(CO)Sc1nc(Nc2ccc(S(C)(=N)=O)cc2)ncc1Br   \n",
       "35  CHEMBL3654248  C[C@@H]1CN(c2ccc(Nc3ncc4cc(C(=O)N(C)C)n(C5CCCC...   \n",
       "\n",
       "    avg_pIC50  \n",
       "0    4.522879  \n",
       "11   4.000000  \n",
       "13   4.522879  \n",
       "16   7.744727  \n",
       "35   4.823909  "
      ]
     },
     "execution_count": 7,
     "metadata": {},
     "output_type": "execute_result"
    }
   ],
   "source": [
    "curated_data = pd.read_csv(\"Single_protein\\scaled_descriptors\\CDK_1_all_curated_with_rdkit_raw_descriptors.csv\")\n",
    "\n",
    "test_ids=best_split_data[best_split_data.subset == 'test'].cmpd_id.unique()\n",
    "test_data = curated_data[curated_data.compound_id.isin(test_ids)]\n",
    "\n",
    "# show most useful columns\n",
    "test_data[['compound_id', 'base_rdkit_smiles', 'avg_pIC50']].head()"
   ]
  },
  {
   "cell_type": "code",
   "execution_count": 12,
   "metadata": {},
   "outputs": [
    {
     "name": "stdout",
     "output_type": "stream",
     "text": [
      "Standardizing SMILES strings for 371 compounds.\n"
     ]
    },
    {
     "name": "stderr",
     "output_type": "stream",
     "text": [
      "C:\\Desktop\\Hackathon\\AMPL\\atomsci\\ddm\\pipeline\\predict_from_model.py:171: SettingWithCopyWarning: \n",
      "A value is trying to be set on a copy of a slice from a DataFrame.\n",
      "Try using .loc[row_indexer,col_indexer] = value instead\n",
      "\n",
      "See the caveats in the documentation: https://pandas.pydata.org/pandas-docs/stable/user_guide/indexing.html#returning-a-view-versus-a-copy\n",
      "  input_df['orig_smiles']=input_df[smiles_col]\n",
      "C:\\Desktop\\Hackathon\\AMPL\\atomsci\\ddm\\pipeline\\predict_from_model.py:172: SettingWithCopyWarning: \n",
      "A value is trying to be set on a copy of a slice from a DataFrame.\n",
      "Try using .loc[row_indexer,col_indexer] = value instead\n",
      "\n",
      "See the caveats in the documentation: https://pandas.pydata.org/pandas-docs/stable/user_guide/indexing.html#returning-a-view-versus-a-copy\n",
      "  input_df[smiles_col] = std_smiles\n",
      "2024-07-19 10:54:11,416 models/CDK_1_all_curated_model_96d385b9-4450-4a5a-8735-bc9324e3afbf.tar.gz, 1.6.1\n",
      "2024-07-19 10:54:11,417 Version compatible check: models/CDK_1_all_curated_model_96d385b9-4450-4a5a-8735-bc9324e3afbf.tar.gz version = \"1.6\", AMPL version = \"1.6\"\n",
      "C:\\Desktop\\Hackathon\\AMPL\\atomsci\\ddm\\pipeline\\transformations.py:250: RuntimeWarning: invalid value encountered in divide\n",
      "  X = np.nan_to_num((X - self.X_means) * X_weight / self.X_stds)\n"
     ]
    },
    {
     "data": {
      "text/html": [
       "<div>\n",
       "<style scoped>\n",
       "    .dataframe tbody tr th:only-of-type {\n",
       "        vertical-align: middle;\n",
       "    }\n",
       "\n",
       "    .dataframe tbody tr th {\n",
       "        vertical-align: top;\n",
       "    }\n",
       "\n",
       "    .dataframe thead th {\n",
       "        text-align: right;\n",
       "    }\n",
       "</style>\n",
       "<table border=\"1\" class=\"dataframe\">\n",
       "  <thead>\n",
       "    <tr style=\"text-align: right;\">\n",
       "      <th></th>\n",
       "      <th>compound_id</th>\n",
       "      <th>base_rdkit_smiles</th>\n",
       "      <th>avg_pIC50_actual</th>\n",
       "      <th>avg_pIC50_pred</th>\n",
       "      <th>avg_pIC50_std</th>\n",
       "    </tr>\n",
       "  </thead>\n",
       "  <tbody>\n",
       "    <tr>\n",
       "      <th>0</th>\n",
       "      <td>CHEMBL2105759</td>\n",
       "      <td>CCS(=O)(=O)N1CC(CC#N)(n2cc(-c3ncnc4[nH]ccc34)c...</td>\n",
       "      <td>4.522879</td>\n",
       "      <td>6.045669</td>\n",
       "      <td>1.339658</td>\n",
       "    </tr>\n",
       "    <tr>\n",
       "      <th>1</th>\n",
       "      <td>CHEMBL511478</td>\n",
       "      <td>NNC(=O)c1c(N)ncnc1Nc1ccc(OCc2ccccc2)c(Cl)c1</td>\n",
       "      <td>4.000000</td>\n",
       "      <td>5.158424</td>\n",
       "      <td>0.904387</td>\n",
       "    </tr>\n",
       "    <tr>\n",
       "      <th>2</th>\n",
       "      <td>CHEMBL402548</td>\n",
       "      <td>CO[C@@H](C(=O)N1Cc2[nH]nc(NC(=O)c3ccc(N4CCN(C)...</td>\n",
       "      <td>4.522879</td>\n",
       "      <td>5.438004</td>\n",
       "      <td>0.553633</td>\n",
       "    </tr>\n",
       "    <tr>\n",
       "      <th>3</th>\n",
       "      <td>CHEMBL3648106</td>\n",
       "      <td>CC(CO)Sc1nc(Nc2ccc(S(C)(=N)=O)cc2)ncc1Br</td>\n",
       "      <td>7.744727</td>\n",
       "      <td>7.014913</td>\n",
       "      <td>0.952868</td>\n",
       "    </tr>\n",
       "    <tr>\n",
       "      <th>4</th>\n",
       "      <td>CHEMBL3654248</td>\n",
       "      <td>C[C@@H]1CN(c2ccc(Nc3ncc4cc(C(=O)N(C)C)n(C5CCCC...</td>\n",
       "      <td>4.823909</td>\n",
       "      <td>4.837519</td>\n",
       "      <td>0.211383</td>\n",
       "    </tr>\n",
       "  </tbody>\n",
       "</table>\n",
       "</div>"
      ],
      "text/plain": [
       "     compound_id                                  base_rdkit_smiles  \\\n",
       "0  CHEMBL2105759  CCS(=O)(=O)N1CC(CC#N)(n2cc(-c3ncnc4[nH]ccc34)c...   \n",
       "1   CHEMBL511478        NNC(=O)c1c(N)ncnc1Nc1ccc(OCc2ccccc2)c(Cl)c1   \n",
       "2   CHEMBL402548  CO[C@@H](C(=O)N1Cc2[nH]nc(NC(=O)c3ccc(N4CCN(C)...   \n",
       "3  CHEMBL3648106           CC(CO)Sc1nc(Nc2ccc(S(C)(=N)=O)cc2)ncc1Br   \n",
       "4  CHEMBL3654248  C[C@@H]1CN(c2ccc(Nc3ncc4cc(C(=O)N(C)C)n(C5CCCC...   \n",
       "\n",
       "   avg_pIC50_actual  avg_pIC50_pred  avg_pIC50_std  \n",
       "0          4.522879        6.045669       1.339658  \n",
       "1          4.000000        5.158424       0.904387  \n",
       "2          4.522879        5.438004       0.553633  \n",
       "3          7.744727        7.014913       0.952868  \n",
       "4          4.823909        4.837519       0.211383  "
      ]
     },
     "execution_count": 12,
     "metadata": {},
     "output_type": "execute_result"
    }
   ],
   "source": [
    "model_dir = 'dataset/SLC6A3_models/SLC6A3_Ki_curated_model_9ff5a924-ef49-407c-a4d4-868a1288a67e.tar.gz'\n",
    "input_df = test_data\n",
    "id_col = 'compound_id'\n",
    "smiles_col = 'base_rdkit_smiles'\n",
    "response_col = 'avg_pIC50'\n",
    "\n",
    "# loads a pretrained model from a model tarball file and runs predictions on\n",
    "# compounds in an input data frame\n",
    "pred_df = pfm.predict_from_model_file(model_path = top_model.model_path,\n",
    "                                      input_df = test_data,\n",
    "                                      id_col = id_col ,\n",
    "                                      smiles_col = smiles_col,\n",
    "                                      response_col = response_col,\n",
    "                                      is_featurized=True)\n",
    "\n",
    "\n",
    "# show most useful columns\n",
    "pred_df[['compound_id', 'base_rdkit_smiles', 'avg_pIC50_actual','avg_pIC50_pred', 'avg_pIC50_std']].head()"
   ]
  }
 ],
 "metadata": {
  "kernelspec": {
   "display_name": "atomsci-env",
   "language": "python",
   "name": "python3"
  },
  "language_info": {
   "codemirror_mode": {
    "name": "ipython",
    "version": 3
   },
   "file_extension": ".py",
   "mimetype": "text/x-python",
   "name": "python",
   "nbconvert_exporter": "python",
   "pygments_lexer": "ipython3",
   "version": "3.9.12"
  }
 },
 "nbformat": 4,
 "nbformat_minor": 2
}
