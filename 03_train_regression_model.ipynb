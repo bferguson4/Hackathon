{
 "cells": [
  {
   "cell_type": "markdown",
   "id": "7f70f3f5",
   "metadata": {},
   "source": [
    "# Train a Simple Regression Model\n",
    "\n",
    "The process of training a machine learning (ML) model can be thought of as fitting a\n",
    "highly parameterized function to map inputs to outputs. An ML algorithm needs to train\n",
    "numerous examples of input and output pairs to accurately map an input to an output,\n",
    "i. e., make a prediction. After training, the result is referred to as a trained ML model or an artifact.\n",
    "\n",
    "This tutorial will detail how we can use **[AMPL](https://github.com/ATOMScience-org/AMPL)** tools to train a regression model to predict \n",
    "how much a compound will inhibit the **[SLC6A3](https://www.ebi.ac.uk/chembl/target_report_card/CHEMBL238/)** protein as measured by $pK_i$. \n",
    "We will train a random forest model using the following inputs:\n",
    "\n",
    "1. The curated **[SLC6A3](https://www.ebi.ac.uk/chembl/target_report_card/CHEMBL238)** dataset from **Tutorial 1, \"Data Curation\"**.\n",
    "2. The split file generated in **Tutorial 2, \"Splitting Datasets for Validation and Testing\"**.\n",
    "3. **[RDKit](https://github.com/rdkit/rdkit)** features calculated by the **[AMPL](https://github.com/ATOMScience-org/AMPL)** pipeline.\n",
    "\n",
    "The tutorial will present the following functions and classes:\n",
    "\n",
    "* [ModelPipeline](https://ampl.readthedocs.io/en/latest/pipeline.html#module-pipeline.model_pipeline)\n",
    "* [parameter_parser.wrapper](https://ampl.readthedocs.io/en/latest/pipeline.html#pipeline.parameter_parser.wrapper)\n",
    "* [compare_models.get_filesystem_perf_results](https://ampl.readthedocs.io/en/latest/pipeline.html#pipeline.compare_models.get_filesystem_perf_results)\n",
    "\n",
    "We will explain the use of descriptors, how to evaluate model performance,\n",
    "and where the model is saved as a .tar.gz file.\n",
    "\n",
    "> **Note**: *Training a random forest model and splitting the dataset are non-deterministic. \n",
    "You will obtain a slightly different random forest model by running this tutorial each time.*"
   ]
  },
  {
   "cell_type": "markdown",
   "id": "409083fb",
   "metadata": {},
   "source": [
    "## Model Training (Split Data and Train)\n",
    "\n",
    "**[AMPL](https://github.com/ATOMScience-org/AMPL)** also provides an option to split a dataset and train a model in one step, by setting the `previously_split` parameter to False and omitting the `split_uuid` parameter. \n",
    "**[AMPL](https://github.com/ATOMScience-org/AMPL)** splits the data by the type of split specified in the splitter parameter, \n",
    "scaffold in this example, and writes the split file in\n",
    "`dataset/SLC6A3_Ki_curated_train_valid_test_scaffold_{split_uuid}.csv` \n",
    "\n",
    "Although it's convenient, it is not a good idea to use the one-step option if you intend to train multiple models with different parameters on the same dataset and compare their performance. If you do, you will end up with different splits for each model, and won't be able to tell if the differences in performance are due to the parameter settings or to the random variations between splits."
   ]
  },
  {
   "cell_type": "code",
   "execution_count": 2,
   "id": "6e118bdd",
   "metadata": {},
   "outputs": [
    {
     "name": "stderr",
     "output_type": "stream",
     "text": [
      "Skipped loading some Jax models, missing a dependency. No module named 'haiku'\n",
      "c:\\Desktop\\Hackathon\\atomsci-env\\lib\\site-packages\\tqdm\\auto.py:21: TqdmWarning: IProgress not found. Please update jupyter and ipywidgets. See https://ipywidgets.readthedocs.io/en/stable/user_install.html\n",
      "  from .autonotebook import tqdm as notebook_tqdm\n"
     ]
    }
   ],
   "source": [
    "import pandas as pd\n",
    "pd.set_option('display.max_columns', None)\n",
    "from atomsci.ddm.pipeline import model_pipeline as mp\n",
    "from atomsci.ddm.pipeline import parameter_parser as parse"
   ]
  },
  {
   "cell_type": "code",
   "execution_count": 11,
   "id": "4acd0f90",
   "metadata": {},
   "outputs": [],
   "source": [
    "import os\n",
    "\n",
    "curated_cdks = []\n",
    "for file in os.listdir(\"./\"):\n",
    "    if (file.endswith(\".csv\")):\n",
    "        curated_cdks.append(file)"
   ]
  },
  {
   "cell_type": "code",
   "execution_count": 4,
   "id": "1c5bbc2c",
   "metadata": {},
   "outputs": [
    {
     "name": "stderr",
     "output_type": "stream",
     "text": [
      "C:\\Desktop\\Hackathon\\AMPL\\atomsci\\ddm\\pipeline\\transformations.py:250: RuntimeWarning: invalid value encountered in divide\n",
      "  X = np.nan_to_num((X - self.X_means) * X_weight / self.X_stds)\n"
     ]
    }
   ],
   "source": [
    "\n",
    "odir = \"models/\"\n",
    "params = {\n",
    "        \"prediction_type\": \"regression\",\n",
    "        \"dataset_key\": \"Single_protein/curated_cdk_1.csv\",\n",
    "        \"id_col\": \"compound_id\",\n",
    "        \"smiles_col\": \"base_rdkit_smiles\",\n",
    "        \"response_cols\": \"avg_pIC50\",\n",
    "    \n",
    "        \"previously_split\": \"False\",\n",
    "        \"split_only\": \"False\",\n",
    "        \"splitter\": \"random\",\n",
    "        \"split_strategy\" : \"train_valid_test\",\n",
    "    \n",
    "        \"featurizer\": \"computed_descriptors\",\n",
    "        \"descriptor_type\" : \"rdkit_raw\",\n",
    "        \"model_type\": \"RF\",\n",
    "        \"transformers\": \"True\",\n",
    "        \"rerun\": \"True\",\n",
    "        \"result_dir\": odir\n",
    "    }\n",
    "\n",
    "ampl_param = parse.wrapper(params)\n",
    "pl = mp.ModelPipeline(ampl_param)\n",
    "pl.train_model()"
   ]
  },
  {
   "cell_type": "markdown",
   "id": "572d4387",
   "metadata": {},
   "source": [
    "## Performance of the Model\n",
    "We evaluate model performance by measuring how accurate \n",
    "models are on validation and test sets. \n",
    "The validation set is used while optimizing the model and choosing the best\n",
    "parameter settings. Finally, we use the model's performance on the test set to judge the model.\n",
    "\n",
    "**[AMPL](https://github.com/ATOMScience-org/AMPL)** has several popular metrics to evaulate regression models; \n",
    "**Mean Absolute Error (MAE)**, **Root Mean Squared Error (RMSE)** and $R^2$ (R-Squared).\n",
    "In our tutorials, we will use $R^2$ metric to compare our models. The best model will have the highest\n",
    "$R^2$ score.\n"
   ]
  },
  {
   "cell_type": "code",
   "execution_count": 50,
   "id": "d5ae07e3",
   "metadata": {},
   "outputs": [
    {
     "data": {
      "text/plain": [
       "array(['model_uuid', 'model_path', 'ampl_version', 'model_type',\n",
       "       'dataset_key', 'features', 'splitter', 'split_strategy',\n",
       "       'split_uuid', 'model_score_type', 'feature_transform_type',\n",
       "       'weight_transform_type', 'model_choice_score',\n",
       "       'best_train_r2_score', 'best_train_rms_score',\n",
       "       'best_train_mae_score', 'best_train_num_compounds',\n",
       "       'best_valid_r2_score', 'best_valid_rms_score',\n",
       "       'best_valid_mae_score', 'best_valid_num_compounds',\n",
       "       'best_test_r2_score', 'best_test_rms_score', 'best_test_mae_score',\n",
       "       'best_test_num_compounds', 'max_epochs', 'best_epoch',\n",
       "       'learning_rate', 'layer_sizes', 'dropouts', 'rf_estimators',\n",
       "       'rf_max_features', 'rf_max_depth', 'xgb_gamma',\n",
       "       'xgb_learning_rate', 'xgb_max_depth', 'xgb_colsample_bytree',\n",
       "       'xgb_subsample', 'xgb_n_estimators', 'xgb_min_child_weight',\n",
       "       'model_parameters_dict', 'feat_parameters_dict'], dtype=object)"
      ]
     },
     "execution_count": 50,
     "metadata": {},
     "output_type": "execute_result"
    }
   ],
   "source": [
    "perf_df.columns.values"
   ]
  },
  {
   "cell_type": "code",
   "execution_count": 7,
   "id": "93d34b0e",
   "metadata": {},
   "outputs": [
    {
     "name": "stdout",
     "output_type": "stream",
     "text": [
      "Found data for 15 models under models/\n"
     ]
    },
    {
     "data": {
      "text/html": [
       "<div>\n",
       "<style scoped>\n",
       "    .dataframe tbody tr th:only-of-type {\n",
       "        vertical-align: middle;\n",
       "    }\n",
       "\n",
       "    .dataframe tbody tr th {\n",
       "        vertical-align: top;\n",
       "    }\n",
       "\n",
       "    .dataframe thead th {\n",
       "        text-align: right;\n",
       "    }\n",
       "</style>\n",
       "<table border=\"1\" class=\"dataframe\">\n",
       "  <thead>\n",
       "    <tr style=\"text-align: right;\">\n",
       "      <th></th>\n",
       "      <th>model_uuid</th>\n",
       "      <th>split_uuid</th>\n",
       "      <th>model_type</th>\n",
       "      <th>splitter</th>\n",
       "      <th>best_valid_r2_score</th>\n",
       "      <th>best_train_r2_score</th>\n",
       "    </tr>\n",
       "  </thead>\n",
       "  <tbody>\n",
       "    <tr>\n",
       "      <th>5</th>\n",
       "      <td>96d385b9-4450-4a5a-8735-bc9324e3afbf</td>\n",
       "      <td>bfd30f7c-f9fc-4d67-99c0-6c7eafccc8c0</td>\n",
       "      <td>RF</td>\n",
       "      <td>random</td>\n",
       "      <td>0.612848</td>\n",
       "      <td>0.940891</td>\n",
       "    </tr>\n",
       "    <tr>\n",
       "      <th>9</th>\n",
       "      <td>f3b39149-4268-40c4-9e45-a1a9d0c85d4d</td>\n",
       "      <td>03b80b96-36b7-4e3a-8263-f500c3ba49ba</td>\n",
       "      <td>RF</td>\n",
       "      <td>random</td>\n",
       "      <td>0.592412</td>\n",
       "      <td>0.935752</td>\n",
       "    </tr>\n",
       "    <tr>\n",
       "      <th>6</th>\n",
       "      <td>ab837d7f-4c35-4029-91e7-301184eeb89b</td>\n",
       "      <td>815aed32-aec6-415c-9574-d298fd4bdd76</td>\n",
       "      <td>RF</td>\n",
       "      <td>random</td>\n",
       "      <td>0.578656</td>\n",
       "      <td>0.939304</td>\n",
       "    </tr>\n",
       "    <tr>\n",
       "      <th>14</th>\n",
       "      <td>8c572243-2064-47cc-b9ed-5cd2e34b9119</td>\n",
       "      <td>f9be6f68-6590-4151-8484-ae4ebc6ddae0</td>\n",
       "      <td>RF</td>\n",
       "      <td>random</td>\n",
       "      <td>0.565689</td>\n",
       "      <td>0.943218</td>\n",
       "    </tr>\n",
       "    <tr>\n",
       "      <th>8</th>\n",
       "      <td>eded78be-90c6-4076-8b70-e5569795bd58</td>\n",
       "      <td>43a0194a-f87f-4035-ac4e-c93d1ab2f7a2</td>\n",
       "      <td>RF</td>\n",
       "      <td>random</td>\n",
       "      <td>0.540056</td>\n",
       "      <td>0.942331</td>\n",
       "    </tr>\n",
       "    <tr>\n",
       "      <th>7</th>\n",
       "      <td>b9f174ba-e2a7-4139-974d-8b71f1899508</td>\n",
       "      <td>ba5f8462-c47c-4a31-98f2-73f399e222b7</td>\n",
       "      <td>RF</td>\n",
       "      <td>random</td>\n",
       "      <td>0.499006</td>\n",
       "      <td>0.943851</td>\n",
       "    </tr>\n",
       "    <tr>\n",
       "      <th>0</th>\n",
       "      <td>5f309549-3a32-472e-97bd-be53a71642d6</td>\n",
       "      <td>6511638d-f8f9-49a8-aedb-f5fbcbef3366</td>\n",
       "      <td>NN</td>\n",
       "      <td>random</td>\n",
       "      <td>0.405756</td>\n",
       "      <td>0.506961</td>\n",
       "    </tr>\n",
       "    <tr>\n",
       "      <th>11</th>\n",
       "      <td>a5eaef75-8ad4-44ed-a9f8-2c3d5eaeb020</td>\n",
       "      <td>01dbe363-5d0e-449e-b674-172195134d28</td>\n",
       "      <td>RF</td>\n",
       "      <td>scaffold</td>\n",
       "      <td>0.324142</td>\n",
       "      <td>0.948949</td>\n",
       "    </tr>\n",
       "    <tr>\n",
       "      <th>10</th>\n",
       "      <td>12648c3a-a6ed-41d0-90a7-f2b2567c5df5</td>\n",
       "      <td>913e2293-ac11-4b26-bcdc-db1113e1e59c</td>\n",
       "      <td>RF</td>\n",
       "      <td>scaffold</td>\n",
       "      <td>0.321100</td>\n",
       "      <td>0.948791</td>\n",
       "    </tr>\n",
       "    <tr>\n",
       "      <th>2</th>\n",
       "      <td>6eaa93ac-f80a-46b4-a45a-bb6355a1e375</td>\n",
       "      <td>2a90ebd5-39c4-45a0-8a1e-38344d696ccb</td>\n",
       "      <td>RF</td>\n",
       "      <td>fingerprint</td>\n",
       "      <td>0.240840</td>\n",
       "      <td>0.950351</td>\n",
       "    </tr>\n",
       "    <tr>\n",
       "      <th>1</th>\n",
       "      <td>0461eadf-b1ec-4632-9476-a09c12a415ad</td>\n",
       "      <td>fcacce07-1b94-41f0-bb2c-18921dfef605</td>\n",
       "      <td>RF</td>\n",
       "      <td>fingerprint</td>\n",
       "      <td>0.234646</td>\n",
       "      <td>0.950323</td>\n",
       "    </tr>\n",
       "    <tr>\n",
       "      <th>12</th>\n",
       "      <td>2874909a-2ab8-4820-9e2f-ca46e34ebcbc</td>\n",
       "      <td>4024e393-db38-4468-ad14-6280111706a9</td>\n",
       "      <td>NN</td>\n",
       "      <td>multitaskscaffold</td>\n",
       "      <td>0.233604</td>\n",
       "      <td>0.425204</td>\n",
       "    </tr>\n",
       "    <tr>\n",
       "      <th>3</th>\n",
       "      <td>b9af7ab8-c016-40e9-98c8-7d7a010adc77</td>\n",
       "      <td>04795c71-5f2e-4b6d-a898-9ec485602b1d</td>\n",
       "      <td>RF</td>\n",
       "      <td>fingerprint</td>\n",
       "      <td>0.229454</td>\n",
       "      <td>0.949346</td>\n",
       "    </tr>\n",
       "    <tr>\n",
       "      <th>13</th>\n",
       "      <td>799c6d99-67cc-41b3-96b4-2ad058096e6f</td>\n",
       "      <td>4024e393-db38-4468-ad14-6280111706a9</td>\n",
       "      <td>NN</td>\n",
       "      <td>multitaskscaffold</td>\n",
       "      <td>0.185512</td>\n",
       "      <td>0.332130</td>\n",
       "    </tr>\n",
       "    <tr>\n",
       "      <th>4</th>\n",
       "      <td>c1683505-b2fc-4c05-a21d-8e37bdc3a6bf</td>\n",
       "      <td>834c676f-13d1-4e32-814f-3aeb6a8f947b</td>\n",
       "      <td>RF</td>\n",
       "      <td>fingerprint</td>\n",
       "      <td>0.151968</td>\n",
       "      <td>0.951295</td>\n",
       "    </tr>\n",
       "  </tbody>\n",
       "</table>\n",
       "</div>"
      ],
      "text/plain": [
       "                              model_uuid  \\\n",
       "5   96d385b9-4450-4a5a-8735-bc9324e3afbf   \n",
       "9   f3b39149-4268-40c4-9e45-a1a9d0c85d4d   \n",
       "6   ab837d7f-4c35-4029-91e7-301184eeb89b   \n",
       "14  8c572243-2064-47cc-b9ed-5cd2e34b9119   \n",
       "8   eded78be-90c6-4076-8b70-e5569795bd58   \n",
       "7   b9f174ba-e2a7-4139-974d-8b71f1899508   \n",
       "0   5f309549-3a32-472e-97bd-be53a71642d6   \n",
       "11  a5eaef75-8ad4-44ed-a9f8-2c3d5eaeb020   \n",
       "10  12648c3a-a6ed-41d0-90a7-f2b2567c5df5   \n",
       "2   6eaa93ac-f80a-46b4-a45a-bb6355a1e375   \n",
       "1   0461eadf-b1ec-4632-9476-a09c12a415ad   \n",
       "12  2874909a-2ab8-4820-9e2f-ca46e34ebcbc   \n",
       "3   b9af7ab8-c016-40e9-98c8-7d7a010adc77   \n",
       "13  799c6d99-67cc-41b3-96b4-2ad058096e6f   \n",
       "4   c1683505-b2fc-4c05-a21d-8e37bdc3a6bf   \n",
       "\n",
       "                              split_uuid model_type           splitter  \\\n",
       "5   bfd30f7c-f9fc-4d67-99c0-6c7eafccc8c0         RF             random   \n",
       "9   03b80b96-36b7-4e3a-8263-f500c3ba49ba         RF             random   \n",
       "6   815aed32-aec6-415c-9574-d298fd4bdd76         RF             random   \n",
       "14  f9be6f68-6590-4151-8484-ae4ebc6ddae0         RF             random   \n",
       "8   43a0194a-f87f-4035-ac4e-c93d1ab2f7a2         RF             random   \n",
       "7   ba5f8462-c47c-4a31-98f2-73f399e222b7         RF             random   \n",
       "0   6511638d-f8f9-49a8-aedb-f5fbcbef3366         NN             random   \n",
       "11  01dbe363-5d0e-449e-b674-172195134d28         RF           scaffold   \n",
       "10  913e2293-ac11-4b26-bcdc-db1113e1e59c         RF           scaffold   \n",
       "2   2a90ebd5-39c4-45a0-8a1e-38344d696ccb         RF        fingerprint   \n",
       "1   fcacce07-1b94-41f0-bb2c-18921dfef605         RF        fingerprint   \n",
       "12  4024e393-db38-4468-ad14-6280111706a9         NN  multitaskscaffold   \n",
       "3   04795c71-5f2e-4b6d-a898-9ec485602b1d         RF        fingerprint   \n",
       "13  4024e393-db38-4468-ad14-6280111706a9         NN  multitaskscaffold   \n",
       "4   834c676f-13d1-4e32-814f-3aeb6a8f947b         RF        fingerprint   \n",
       "\n",
       "    best_valid_r2_score  best_train_r2_score  \n",
       "5              0.612848             0.940891  \n",
       "9              0.592412             0.935752  \n",
       "6              0.578656             0.939304  \n",
       "14             0.565689             0.943218  \n",
       "8              0.540056             0.942331  \n",
       "7              0.499006             0.943851  \n",
       "0              0.405756             0.506961  \n",
       "11             0.324142             0.948949  \n",
       "10             0.321100             0.948791  \n",
       "2              0.240840             0.950351  \n",
       "1              0.234646             0.950323  \n",
       "12             0.233604             0.425204  \n",
       "3              0.229454             0.949346  \n",
       "13             0.185512             0.332130  \n",
       "4              0.151968             0.951295  "
      ]
     },
     "execution_count": 7,
     "metadata": {},
     "output_type": "execute_result"
    }
   ],
   "source": [
    "# Model Performance\n",
    "from atomsci.ddm.pipeline import compare_models as cm\n",
    "odir = \"models/\"\n",
    "\n",
    "perf_df = cm.get_filesystem_perf_results(odir, pred_type='regression')\n",
    "# save perf_df\n",
    "import os\n",
    "\n",
    "perf_df.to_csv(os.path.join(odir, 'perf_df.csv'))\n",
    "# View the perf_df dataframe\n",
    "\n",
    "# show most useful columns\n",
    "perf_df[['model_uuid', \"split_uuid\", 'model_type', 'splitter', 'best_valid_r2_score', 'best_train_r2_score']].sort_values(by=\"best_valid_r2_score\", ascending=False)"
   ]
  },
  {
   "cell_type": "markdown",
   "id": "6629959c",
   "metadata": {},
   "source": [
    "## Finding the Top Performing Model\n",
    "To pick the top performing model, we sort the performance table by `best_valid_r2_score` in descending order and examine the top row. "
   ]
  },
  {
   "cell_type": "code",
   "execution_count": 49,
   "id": "87973dc1",
   "metadata": {},
   "outputs": [
    {
     "data": {
      "text/plain": [
       "model_uuid                               96d385b9-4450-4a5a-8735-bc9324e3afbf\n",
       "model_path                  models/CDK_1_all_curated_model_96d385b9-4450-4...\n",
       "ampl_version                                                            1.6.1\n",
       "model_type                                                                 RF\n",
       "dataset_key                 c:\\Desktop\\Hackathon\\Single_protein\\CDK_1_all_...\n",
       "features                                                            rdkit_raw\n",
       "splitter                                                               random\n",
       "split_strategy                                               train_valid_test\n",
       "split_uuid                               bfd30f7c-f9fc-4d67-99c0-6c7eafccc8c0\n",
       "model_score_type                                                           r2\n",
       "feature_transform_type                                          normalization\n",
       "weight_transform_type                                                    None\n",
       "model_choice_score                                                   0.612848\n",
       "best_train_r2_score                                                  0.940891\n",
       "best_train_rms_score                                                 0.296291\n",
       "best_train_mae_score                                                 0.216927\n",
       "best_train_num_compounds                                                 1726\n",
       "best_valid_r2_score                                                  0.612848\n",
       "best_valid_rms_score                                                 0.753585\n",
       "best_valid_mae_score                                                  0.54165\n",
       "best_valid_num_compounds                                                  370\n",
       "best_test_r2_score                                                   0.551842\n",
       "best_test_rms_score                                                   0.79995\n",
       "best_test_mae_score                                                  0.565807\n",
       "best_test_num_compounds                                                   371\n",
       "max_epochs                                                                NaN\n",
       "best_epoch                                                                NaN\n",
       "learning_rate                                                             NaN\n",
       "layer_sizes                                                               NaN\n",
       "dropouts                                                                  NaN\n",
       "rf_estimators                                                           500.0\n",
       "rf_max_features                                                          32.0\n",
       "rf_max_depth                                                              NaN\n",
       "xgb_gamma                                                                 NaN\n",
       "xgb_learning_rate                                                         NaN\n",
       "xgb_max_depth                                                             NaN\n",
       "xgb_colsample_bytree                                                      NaN\n",
       "xgb_subsample                                                             NaN\n",
       "xgb_n_estimators                                                          NaN\n",
       "xgb_min_child_weight                                                      NaN\n",
       "model_parameters_dict       {\"rf_estimators\": 500, \"rf_max_depth\": null, \"...\n",
       "feat_parameters_dict                                                       {}\n",
       "Name: 5, dtype: object"
      ]
     },
     "execution_count": 49,
     "metadata": {},
     "output_type": "execute_result"
    }
   ],
   "source": [
    "# Top performing model\n",
    "top_model=perf_df.sort_values(by=\"best_valid_r2_score\", ascending=False).iloc[0]\n",
    "top_model"
   ]
  },
  {
   "cell_type": "markdown",
   "id": "ca7761e8",
   "metadata": {},
   "source": [
    "You can find the path to the .tar.gz file (\"tarball\") where the top performing model is saved by examining `top_model.model_path`. You will need this path to run predictions with the model at a later time."
   ]
  },
  {
   "cell_type": "code",
   "execution_count": 7,
   "id": "05ea394b-614d-4786-94b7-1fde464b73ca",
   "metadata": {},
   "outputs": [
    {
     "data": {
      "text/plain": [
       "'models/CDK_1_all_curated_model_96d385b9-4450-4a5a-8735-bc9324e3afbf.tar.gz'"
      ]
     },
     "execution_count": 7,
     "metadata": {},
     "output_type": "execute_result"
    }
   ],
   "source": [
    "# Top performing model path\n",
    "top_model.model_path"
   ]
  },
  {
   "cell_type": "markdown",
   "id": "391b04b1-170f-4a90-89e0-02b4625ee56b",
   "metadata": {},
   "source": [
    "In **Tutorial 4\n",
    ", \"Application of a Trained Model\"**, we will learn how to use a selected model to make predictions and evaluate those predictions\n",
    "\n",
    "If you have specific feedback about a tutorial, please complete the **[AMPL Tutorial Evaluation](https://forms.gle/pa9sHj4MHbS5zG7A6)**."
   ]
  }
 ],
 "metadata": {
  "kernelspec": {
   "display_name": "atomsci-env",
   "language": "python",
   "name": "python3"
  },
  "language_info": {
   "codemirror_mode": {
    "name": "ipython",
    "version": 3
   },
   "file_extension": ".py",
   "mimetype": "text/x-python",
   "name": "python",
   "nbconvert_exporter": "python",
   "pygments_lexer": "ipython3",
   "version": "3.9.12"
  }
 },
 "nbformat": 4,
 "nbformat_minor": 5
}
